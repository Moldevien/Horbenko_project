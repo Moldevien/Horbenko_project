{
 "cells": [
  {
   "cell_type": "markdown",
   "metadata": {},
   "source": [
    "---\n",
    "title: \"Лабораторна робота №3. Змінні. Базові операції вводу/виводу\"\n",
    "author: \"Horbenko Vitaliy\"\n",
    "date: \"17.09.2024\"\n",
    "lang: ukr\n",
    "format:\n",
    "  html:\n",
    "    code-fold: true\n",
    "    toc: true # меню\n",
    "    toc_float: # спливаюче меню  \n",
    "      collapsed: true # авто\n",
    "      number_sections: true\n",
    "jupyter: python3\n",
    "---"
   ]
  },
  {
   "cell_type": "markdown",
   "metadata": {},
   "source": [
    "__Мета:__ _освоїти роботу зі змінними та операції вводу і виводу_"
   ]
  },
  {
   "cell_type": "markdown",
   "metadata": {},
   "source": [
    "::: callout-note\n",
    "## Примітка\n",
    "Перед виконанням лабораторної роботи необхідно опрацювати матеріал __Лекції 3__.\n",
    ":::"
   ]
  },
  {
   "cell_type": "markdown",
   "metadata": {},
   "source": [
    "::: callout-note\n",
    "## Примітка\n",
    "У лабораторній роботі використано матеріали [python institute.](https://pythoninstitute.org/pcep) \n",
    ":::"
   ]
  },
  {
   "cell_type": "markdown",
   "metadata": {
    "tags": []
   },
   "source": [
    "#### Що ви будете вміти?\n",
    "* оперувати змінними строкового, цілого типу та типу з плаваючою комою.\n",
    "* використовувати функцію `input()`.\n",
    "* використовувати функції конвертації типів `int()`, `float()`, `string()`."
   ]
  },
  {
   "cell_type": "markdown",
   "metadata": {},
   "source": [
    "## Робота зі змінними"
   ]
  },
  {
   "cell_type": "markdown",
   "metadata": {},
   "source": [
    "### Приклад\n",
    "\n",
    "Написати програму, яка вводить довжини катетів $a$ та $b$ прямокутного трикутника та обчислює його гіпотенузу $c$."
   ]
  },
  {
   "cell_type": "code",
   "execution_count": 2,
   "metadata": {},
   "outputs": [
    {
     "name": "stdout",
     "output_type": "stream",
     "text": [
      "c = 5.0\n"
     ]
    }
   ],
   "source": [
    "a = 3.0\n",
    "b = 4.0\n",
    "c = (a ** 2 + b ** 2) ** 0.5\n",
    "print(\"c =\", c)"
   ]
  },
  {
   "cell_type": "markdown",
   "metadata": {},
   "source": [
    "### Завдання № 1\n",
    "\n",
    "Написати програму, яка обчислює значення функції Гауса: \n",
    "$$f(x) = \\frac{1}{\\sigma \\sqrt{2 \\pi}} e^{-\\frac{(x-\\mu)^2}{2\\sigma^2}}$$"
   ]
  },
  {
   "cell_type": "code",
   "execution_count": 2,
   "metadata": {},
   "outputs": [
    {
     "name": "stdout",
     "output_type": "stream",
     "text": [
      "Значення функції Гауса для x = 1.0: 0.24197072451914337\n"
     ]
    }
   ],
   "source": [
    "import math\n",
    "\n",
    "def gauss(x, mu, sigma):\n",
    "    return (1 / (sigma * math.sqrt(2 * math.pi))) * math.exp(-0.5 * ((x - mu) / sigma) ** 2)\n",
    "\n",
    "result = gauss(1., 0., 1.)\n",
    "print(f\"Значення функції Гауса для x = {1.}: {result}\")"
   ]
  },
  {
   "cell_type": "markdown",
   "metadata": {},
   "source": [
    "###  Завдання № 2"
   ]
  },
  {
   "cell_type": "markdown",
   "metadata": {},
   "source": [
    "Ось невелика розповідь:\n",
    "\n",
    "Якось Джон (John) мав три яблука, Мері (Mary) мала п'ять яблук, а Адам (Adam) мав шість яблук. Усі вони були дуже щасливі та жили довго. Кінець історії.\n",
    "\n",
    "Ваше завдання:\n",
    "\n",
    "* створіть змінні: `john`, `mary`, і `adam`;\n",
    "\n",
    "* надайте значення змінним. Значення повинні дорівнювати кількості фруктів, якими володіють Джон, Мері, і Адам відповідно;\n",
    "\n",
    "* зберігши числа в змінних, виведіть змінні в один рядок і розділіть їх комами;\n",
    "\n",
    "* тепер створіть нову змінну з ім'ям `totalApple`, що дорівнює сумі трьох попередніх змінних;\n",
    "\n",
    "* вивести значення, збережене в `totalapples`, в консоль;\n",
    "\n",
    "* надрукувати рядок та ціле число разом в одному рядку, наприклад, \"Загальна кількість яблук:\" та `total_apples`|."
   ]
  },
  {
   "cell_type": "code",
   "execution_count": 9,
   "metadata": {},
   "outputs": [
    {
     "name": "stdout",
     "output_type": "stream",
     "text": [
      "3, 5, 6\n",
      "14\n",
      "Загальна кількість яблук: 14\n"
     ]
    }
   ],
   "source": [
    "john = 3\n",
    "mary = 5\n",
    "adam = 6\n",
    "print(john, mary, adam, sep=\", \")\n",
    "totalApple = john + mary + adam\n",
    "print(totalApple)\n",
    "print(f\"Загальна кількість яблук: {totalApple}\")"
   ]
  },
  {
   "cell_type": "markdown",
   "metadata": {},
   "source": [
    "### Завдання № 3"
   ]
  },
  {
   "cell_type": "markdown",
   "metadata": {},
   "source": [
    "Милі та кілометри – це одиниці довжини або відстані.\n",
    "\n",
    "Враховуючи, що 1 миля дорівнює приблизно 1.61 кілометрам, напишіть програму, щоб вона перетворила:\n",
    "\n",
    "* милі у кілометри;\n",
    "\n",
    "* кілометри на милі.\n",
    "\n",
    "Не змінюйте нічого в існуючому коді. Напишіть свій код у місцях, вказаних ###. Протестуйте вашу програму з даними, які надано у вихідному коді.\n",
    "\n",
    "Зверніть особливу увагу на те, що відбувається всередині функції `print()`. Проаналізуйте, як ми надаємо кілька аргументів функції та як ми виводимо очікувані дані.\n",
    "\n",
    "Зауважте, що деякі аргументи всередині функції `print()` є рядками (наприклад, `\"miles is\"`, тоді як деякі інші є змінними (наприклад, `miles`)."
   ]
  },
  {
   "cell_type": "code",
   "execution_count": 11,
   "metadata": {},
   "outputs": [
    {
     "name": "stdout",
     "output_type": "stream",
     "text": [
      "7.38 miles is 11.88 kilometers\n",
      "12.25 kilometers is 7.61 miles\n"
     ]
    }
   ],
   "source": [
    "kilometers = 12.25\n",
    "miles = 7.38\n",
    "\n",
    "miles_to_kilometers = miles * 1.61\n",
    "kilometers_to_miles = kilometers / 1.61\n",
    "\n",
    "print(miles, \"miles is\", round(miles_to_kilometers, 2), \"kilometers\")\n",
    "print(kilometers, \"kilometers is\", round(kilometers_to_miles, 2), \"miles\")"
   ]
  },
  {
   "cell_type": "markdown",
   "metadata": {},
   "source": [
    "Очикуваний вивод:\n",
    "\n",
    "`7.38 miles is 11.88 kilometers`\n",
    "\n",
    "`12.25 kilometers is 7.61 miles`"
   ]
  },
  {
   "cell_type": "markdown",
   "metadata": {},
   "source": [
    "### Завдання № 4"
   ]
  },
  {
   "cell_type": "markdown",
   "metadata": {},
   "source": [
    "Подивіться код у редакторі: він читає \"плаваюче\" значення, поміщає його у змінну з ім'ям `x`, і друкує значення змінної з ім'ям `y`. Ваше завдання - завершити код, щоб оцінити такий вираз:\n",
    "\n",
    "$$3x^3 - 2x^2 + 3^x - 1$$\n",
    "\n",
    "Результат має бути присвоєний `y`."
   ]
  },
  {
   "cell_type": "code",
   "execution_count": 16,
   "metadata": {},
   "outputs": [
    {
     "name": "stdout",
     "output_type": "stream",
     "text": [
      "y = 3.0\n"
     ]
    }
   ],
   "source": [
    "x = 1\n",
    "x = float(x)\n",
    "y = 3 * x**3 - 2 * x**2 + 3**x - 1\n",
    "print(\"y =\", y)"
   ]
  },
  {
   "cell_type": "markdown",
   "metadata": {},
   "source": [
    "__Тестові данні__"
   ]
  },
  {
   "cell_type": "markdown",
   "metadata": {},
   "source": [
    "Приклад вводу\n",
    "\n",
    "`x = 0`\n",
    "\n",
    "`x = 1`\n",
    "\n",
    "`x = -1`"
   ]
  },
  {
   "cell_type": "markdown",
   "metadata": {},
   "source": [
    "Приклад виводу\n",
    "\n",
    "`y = -1.0`\n",
    "\n",
    "`y = 3.0`\n",
    "\n",
    "`y = -9.0`"
   ]
  },
  {
   "cell_type": "markdown",
   "metadata": {},
   "source": [
    "### Завдання № 5 "
   ]
  },
  {
   "cell_type": "markdown",
   "metadata": {},
   "source": [
    "Код редактора містить коментарі. Спробуйте покращити його: додайте або видаліть коментарі там, де ви вважаєте це доречним (так, іноді видалення коментаря може зробити код більш читабельним) і змініть імена змінних там, де, на вашу думку, це покращить розуміння коду."
   ]
  },
  {
   "cell_type": "code",
   "execution_count": 17,
   "metadata": {},
   "outputs": [
    {
     "name": "stdout",
     "output_type": "stream",
     "text": [
      "Hours:  2\n",
      "Seconds in Hours:  7200\n",
      "Goodbye\n",
      "Seconds in 3 hour:  10800\n"
     ]
    }
   ],
   "source": [
    "# this program computes the number of seconds in a given number of hours\n",
    "# this program has been written two days ago\n",
    "\n",
    "hours = 2 # number of hours\n",
    "seconds = 3600 # number of seconds in 1 hour\n",
    "\n",
    "print(\"Hours: \", hours) #printing the number of hours\n",
    "print(\"Seconds in Hours: \", hours * seconds) # printing the number of seconds in a given number of hours\n",
    "\n",
    "#here we should also print \"Goodbye\", but a programmer didn't have time to write any code\n",
    "print(\"Goodbye\")\n",
    "#this is the end of the program that computes the number of seconds in 3 hour\n",
    "print(\"Seconds in 3 hour: \", 3 * seconds)"
   ]
  },
  {
   "cell_type": "markdown",
   "metadata": {},
   "source": [
    "### Завдання № 6 "
   ]
  },
  {
   "cell_type": "markdown",
   "metadata": {},
   "source": [
    "Ваше завдання – завершити код, щоб отримати результати чотирьох основних арифметичних операцій.\n",
    "\n",
    "Результати мають бути виведені у консолі.\n",
    "\n",
    "Можливо, ви не зможете захистити код від користувача, який хоче ділити на нуль. Пізніше ми взнаємо, як це зробити."
   ]
  },
  {
   "cell_type": "code",
   "execution_count": 4,
   "metadata": {},
   "outputs": [
    {
     "name": "stdout",
     "output_type": "stream",
     "text": [
      "input a: 5\n",
      "input b: 5\n",
      "output the result of addition: 10\n",
      "output the result of addition: 0\n",
      "output the result of addition: 25\n",
      "output the result of addition: 1.0\n",
      "\n",
      "That's all, folks!\n"
     ]
    }
   ],
   "source": [
    "# input a float value for variable a here\n",
    "a=float(input(\"input a: \"))\n",
    "print(f\"input a: {a}\")\n",
    "# input a float value for variable b here\n",
    "b=float(input(\"input b: \"))\n",
    "print(f\"input b: {b}\")\n",
    "\n",
    "# output the result of addition here\n",
    "print(f\"output the result of addition: {a + b}\")\n",
    "# output the result of subtraction here\n",
    "print(f\"output the result of addition: {a - b}\")\n",
    "# output the result of multiplication here\n",
    "print(f\"output the result of addition: {a * b}\")\n",
    "# output the result of division here\n",
    "print(f\"output the result of addition: {a / b}\")\n",
    "\n",
    "print(\"\\nThat's all, folks!\")"
   ]
  },
  {
   "cell_type": "markdown",
   "metadata": {},
   "source": [
    "### Завдання № 7 "
   ]
  },
  {
   "cell_type": "markdown",
   "metadata": {},
   "source": [
    "Ваше завдання -- завершити код, щоб оцінити такий вираз:\n",
    "$$\\frac{1}{x + \\frac{1}{x + \\frac{1}{x + \\frac{1}{x + \\frac{1}{x}}}}}$$\n",
    "\n",
    "\n",
    "Результат має бути присвоєний `y`.\n",
    "\n",
    "Ви можете використовувати додаткові змінні для зменшення виразу (але це не обов'язково). Ретельно тестуйте свій код."
   ]
  },
  {
   "cell_type": "code",
   "execution_count": 7,
   "metadata": {},
   "outputs": [
    {
     "name": "stdout",
     "output_type": "stream",
     "text": [
      "y = 0.009999000199950014\n"
     ]
    }
   ],
   "source": [
    "x = float(input(\"Enter value for x: \"))\n",
    "\n",
    "print(f\"Enter value for x: {x}\")\n",
    "\n",
    "y=1/(x+1/(x+1/(x+1/(x+1/x))))\n",
    "\n",
    "print(\"y =\", y)"
   ]
  },
  {
   "cell_type": "markdown",
   "metadata": {},
   "source": [
    "__Тестові дані__\n",
    "\n",
    "`x = 1`\n",
    "\n",
    "`y = 0.6000000000000001`\n",
    "\n",
    "`x = 10`\n",
    "\n",
    "`y = 0.09901951266867294`\n",
    "\n",
    "`x = 100`\n",
    "\n",
    "`y = 0.009999000199950014`\n",
    "\n",
    "`x = -5`\n",
    "\n",
    "`y = -0.19258202567760344`"
   ]
  },
  {
   "cell_type": "markdown",
   "metadata": {},
   "source": [
    "### Завдання № 8"
   ]
  },
  {
   "cell_type": "markdown",
   "metadata": {},
   "source": [
    "Ваше завдання - підготувати простий код, здатний порахувати час закінчення періоду часу, вираженого в кількості хвилин (воно може бути як завгодно великим). Час початку вказується у вигляді пари годин (0..23) та хвилин (0..59). Результат повинен бути надрукований на консолі.\n",
    "\n",
    "Наприклад, якщо подія починається о __12:17__ і триває __59__ хвилин, вона закінчується о __13:16__.\n",
    "\n",
    "Не турбуйтеся про будь-які недоліки у вашому коді –- це нормально, якщо він приймає неприпустимий час -– найважливіше, що код видає дійсні результати для правильних вхідних даних.\n",
    "\n",
    "Ретельно перевірте код. Підказка: використання оператора `%` може бути ключем до успіху."
   ]
  },
  {
   "cell_type": "code",
   "execution_count": 12,
   "metadata": {},
   "outputs": [
    {
     "name": "stdout",
     "output_type": "stream",
     "text": [
      "Starting time (hours): 0\n",
      "Starting time (minutes): 1\n",
      "Event duration (minutes): 2939\n",
      "1:0\n"
     ]
    }
   ],
   "source": [
    "hour = int(input(\"Starting time (hours): \"))\n",
    "mins = int(input(\"Starting time (minutes): \"))\n",
    "dura = int(input(\"Event duration (minutes): \"))\n",
    "\n",
    "print(f\"Starting time (hours): {hour}\")\n",
    "print(f\"Starting time (minutes): {mins}\")\n",
    "print(f\"Event duration (minutes): {dura}\")\n",
    "\n",
    "a = mins + dura\n",
    "mins = a % 60\n",
    "hour = (hour + a // 60) % 24\n",
    "\n",
    "print(f\"{hour}:{mins}\")"
   ]
  },
  {
   "cell_type": "markdown",
   "metadata": {},
   "source": [
    "__Тестові дані__\n",
    "\n",
    "Приклад вводу:\n",
    "\n",
    "`12`\n",
    "\n",
    "`17`\n",
    "\n",
    "`59`"
   ]
  },
  {
   "cell_type": "markdown",
   "metadata": {},
   "source": [
    "Очікуваний результат: `13:16`"
   ]
  },
  {
   "cell_type": "markdown",
   "metadata": {},
   "source": [
    "Приклад вводу:\n",
    "\n",
    "`23`\n",
    "\n",
    "`58`\n",
    "\n",
    "`642`"
   ]
  },
  {
   "cell_type": "markdown",
   "metadata": {},
   "source": [
    "Очікуваний результат: `10:40`"
   ]
  },
  {
   "cell_type": "markdown",
   "metadata": {},
   "source": [
    "Приклад вводу:\n",
    "\n",
    "`0`\n",
    "\n",
    "`1`\n",
    "\n",
    "`2939`"
   ]
  },
  {
   "cell_type": "markdown",
   "metadata": {},
   "source": [
    "Очікуваний результат: `1:0`"
   ]
  },
  {
   "cell_type": "markdown",
   "metadata": {},
   "source": [
    "## Завдання для самостіної роботи\n",
    "\n",
    "1. Виконати завдання 1-8, наведені вище у цьому зошиті.\n",
    "\n",
    "1. Створити файл __lab_3_StudentLastName.py__ з написаним кодом. \n",
    "\n",
    "1. Закомітити файл у локальний репозиторій.\n",
    "\n",
    "1. Відправити поточну версію Git-проєкта у віддалений репозиторій на GitHub.\n",
    "\n",
    "1. Звіт має складатися з файлу (за основу взяти __цей Python-зошит__)  `lab_3_StudentLastName.ipynb`. (Можливі якісь додакові файли)"
   ]
  },
  {
   "attachments": {
    "1360c658-010b-4de1-a472-146e2538d7fa.png": {
     "image/png": "[encoded data removed]"
    }
   },
   "cell_type": "markdown",
   "metadata": {},
   "source": [
    "## Контрольні запитання\n",
    "\n",
    "1. Який вивод наступного фрагмента?\n",
    "![image.png](attachment:1360c658-010b-4de1-a472-146e2538d7fa.png)"
   ]
  },
  {
   "cell_type": "code",
   "execution_count": 18,
   "metadata": {},
   "outputs": [
    {
     "name": "stdout",
     "output_type": "stream",
     "text": [
      "55\n"
     ]
    }
   ],
   "source": [
    "print(2*\"5\")"
   ]
  },
  {
   "cell_type": "markdown",
   "metadata": {},
   "source": [
    "2. Який очікуваний результат наступного фрагмента?\n",
    "\n",
    "X = input(\"Enter a number: \") # the user enters 2 \n",
    "\n",
    "print(type(x))"
   ]
  },
  {
   "cell_type": "code",
   "execution_count": 19,
   "metadata": {},
   "outputs": [
    {
     "name": "stdout",
     "output_type": "stream",
     "text": [
      "<class 'int'>\n"
     ]
    }
   ],
   "source": [
    "print(type(2))"
   ]
  }
 ],
 "metadata": {
  "kernelspec": {
   "display_name": "Python 3 (ipykernel)",
   "language": "python",
   "name": "python3"
  },
  "language_info": {
   "codemirror_mode": {
    "name": "ipython",
    "version": 3
   },
   "file_extension": ".py",
   "mimetype": "text/x-python",
   "name": "python",
   "nbconvert_exporter": "python",
   "pygments_lexer": "ipython3",
   "version": "3.12.5"
  }
 },
 "nbformat": 4,
 "nbformat_minor": 4
}

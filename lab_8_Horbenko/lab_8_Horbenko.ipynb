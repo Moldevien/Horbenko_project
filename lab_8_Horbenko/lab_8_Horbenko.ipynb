{
 "cells": [
  {
   "cell_type": "markdown",
   "metadata": {},
   "source": [
    "---\n",
    "title: \"Лабораторна робота №8. Модулі, пакети та pip\"\n",
    "author: \"Horbenko Vitaliy\"\n",
    "date: \"01.11.2024\"\n",
    "lang: ukr\n",
    "format:\n",
    "  html:\n",
    "    code-fold: true\n",
    "    toc: true # меню\n",
    "    toc_float: # спливаюче меню  \n",
    "      collapsed: true # авто\n",
    "      number_sections: true\n",
    "jupyter: python3\n",
    "---"
   ]
  },
  {
   "cell_type": "markdown",
   "metadata": {},
   "source": [
    "__Мета:__ _навчитися імпортувати, користуватися, створювати модулі та пакети. Навчитися користуватися \"сирною крамницею\" PyPi та менеджером пакетів `pip`_"
   ]
  },
  {
   "cell_type": "markdown",
   "metadata": {},
   "source": [
    "::: callout-note\n",
    "## Примітка\n",
    "Попередньо потрібно опрацювати лекцію 9.\n",
    ":::"
   ]
  },
  {
   "cell_type": "markdown",
   "metadata": {},
   "source": [
    "::: callout-note\n",
    "## Примітка\n",
    "У лабораторній роботі використано матеріали [python institute.](https://pythoninstitute.org/pcep) \n",
    ":::"
   ]
  },
  {
   "cell_type": "markdown",
   "metadata": {
    "tags": []
   },
   "source": [
    "## Що ви будете вміти?\n",
    "* створювати та використовувати модулі Python;\n",
    "* створювати та використовувати пакети Python;\n",
    "* використовувати PIP (Python Installation Package) для встановлення та видалення готових до використання пакетів з PyPi."
   ]
  },
  {
   "cell_type": "markdown",
   "metadata": {},
   "source": [
    "## Створення модуля"
   ]
  },
  {
   "cell_type": "markdown",
   "metadata": {},
   "source": [
    "### Завдання 1\n",
    "\n",
    "Створити модуль `module.py` та файл `main.py`, структура яких описана у лекції 9, повторишви кроки 1-10. "
   ]
  },
  {
   "cell_type": "code",
   "execution_count": 24,
   "metadata": {},
   "outputs": [
    {
     "name": "stdout",
     "output_type": "stream",
     "text": [
      "I prefer to be a module, but I can do some tests for you.\n",
      "True\n",
      "True\n"
     ]
    }
   ],
   "source": [
    "'''Файл module.py '''\n",
    "\n",
    "#print(\"I like to be a module.\")\n",
    "#print(__name__)\n",
    "\n",
    "#if __name__ == \"__main__\":\n",
    "#    print(\"I prefer to be a module.\")\n",
    "#else:\n",
    "#    print(\"I like to be a module.\")\n",
    "\n",
    "#counter = 0\n",
    "\n",
    "#if __name__ == \"__main__\":\n",
    "#    print(\"I prefer to be a module.\")\n",
    "#else:\n",
    "#    print(\"I like to be a module.\")\n",
    "\n",
    "#!/usr/bin/env python3\n",
    "\"\"\" module.py - an example of a Python module \"\"\"\n",
    "__counter = 0\n",
    "def suml(the_list):\n",
    "    global __counter\n",
    "    __counter += 1\n",
    "    the_sum = 0\n",
    "    for element in the_list:\n",
    "        the_sum += element\n",
    "    return the_sum\n",
    "\n",
    "def prodl(the_list):\n",
    "    global __counter\n",
    "    __counter += 1\n",
    "    prod = 1\n",
    "    for element in the_list:\n",
    "        prod *= element\n",
    "    return prod\n",
    "\n",
    "if __name__ == \"__main__\":\n",
    "    print(\"I prefer to be a module, but I can do some tests for you.\")\n",
    "    my_list = [i+1 for i in range(5)]\n",
    "    print(suml(my_list) == 15)\n",
    "    print(prodl(my_list) == 120)"
   ]
  },
  {
   "cell_type": "code",
   "execution_count": 37,
   "metadata": {},
   "outputs": [
    {
     "name": "stdout",
     "output_type": "stream",
     "text": [
      "0\n",
      "1\n"
     ]
    }
   ],
   "source": [
    "'''Файл main.py '''\n",
    "\n",
    "#import module\n",
    "#print(module.counter)\n",
    "\n",
    "#from module import suml, prodl\n",
    "\n",
    "#zeroes = [0 for i in range(5)]\n",
    "#ones = [1 for i in range(5)]\n",
    "#print(suml(zeroes))\n",
    "#print(prodl(ones))\n",
    "\n",
    "from sys import path\n",
    "path.append('.\\\\modules')\n",
    "\n",
    "import module\n",
    "\n",
    "zeroes = [0 for i in range(5)]\n",
    "ones = [1 for i in range(5)]\n",
    "print(module.suml(zeroes))\n",
    "print(module.prodl(ones))"
   ]
  },
  {
   "cell_type": "markdown",
   "metadata": {},
   "source": [
    "## Створення пакета"
   ]
  },
  {
   "cell_type": "markdown",
   "metadata": {},
   "source": [
    "### Завдання 2\n",
    "\n",
    "Створити пакет `extra`, структура яких описана у лекції 9, повторишви кроки 1-7, завантаживши потрібні файли за наведеними нижче посиланнями:  \n",
    "\n",
    "[Modules and Packages ZIP file.zip](python_lab_8_quarto_files\\Modules and Packages ZIP file.zip)\n",
    "\n",
    "[Extrapack ZIP file.zip](python_lab_8_quarto_files\\Extrapack ZIP file.zip)\n",
    "\n"
   ]
  },
  {
   "cell_type": "code",
   "execution_count": 45,
   "metadata": {},
   "outputs": [
    {
     "name": "stdout",
     "output_type": "stream",
     "text": [
      "Sigma\n",
      "Alpha\n",
      "Iota\n",
      "beta\n"
     ]
    }
   ],
   "source": [
    "'''Файл main2.py '''\n",
    "from sys import path\n",
    "path.append('.\\\\packages')\n",
    "\n",
    "import extra.good.best.sigma as sig\n",
    "import extra.good.alpha as alp\n",
    "from extra.iota import funI\n",
    "from extra.good.beta import funB\n",
    "\n",
    "print(sig.funS())\n",
    "print(alp.funA())\n",
    "print(funI())\n",
    "print(funB())"
   ]
  },
  {
   "cell_type": "markdown",
   "metadata": {},
   "source": [
    "## Робота з менеджером пакетів `pip` "
   ]
  },
  {
   "cell_type": "markdown",
   "metadata": {},
   "source": [
    "Список основних команд `pip`:\n",
    "\n",
    "* `pip help operation` – показує короткий опис pip;\n",
    "* `pip list` – показує список встановлених пакетів;\n",
    "* `pip show package_name` – показує інформацію про package_name, включаючи залежність пакета;\n",
    "* `pip search anystring` – виконує пошук у каталогах PyPI, щоб знайти пакети, імена яких містять anystring;\n",
    "* `pip install name` – встановлює name у масштабі всієї системи (очікуйте проблем, якщо у Вас немає прав адміністратора);\n",
    "* `pip install` --user name – встановлює name лише для Вас; жоден інший користувач платформи не зможе його використовувати;\n",
    "* `pip install -U name` – оновлює раніше встановлений пакет;\n",
    "* `pip uninstall name` – видаляє встановлений раніше пакет."
   ]
  },
  {
   "cell_type": "markdown",
   "metadata": {},
   "source": [
    "### Завдання 3\n",
    "За допомогою менеджера пакетів `pip`: \n",
    "\n",
    "* вивести перелік встановлених на Вашому комп'ютері пакетів\n"
   ]
  },
  {
   "cell_type": "code",
   "execution_count": null,
   "metadata": {},
   "outputs": [
    {
     "name": "stdout",
     "output_type": "stream",
     "text": [
      "Package                   Version\n",
      "------------------------- -----------\n",
      "anyio                     4.2.0\n",
      "argon2-cffi               21.3.0\n",
      "argon2-cffi-bindings      21.2.0\n",
      "asttokens                 2.0.5\n",
      "async-lru                 2.0.4\n",
      "attrs                     23.1.0\n",
      "Babel                     2.11.0\n",
      "beautifulsoup4            4.12.3\n",
      "bleach                    4.1.0\n",
      "Brotli                    1.0.9\n",
      "certifi                   2024.8.30\n",
      "cffi                      1.16.0\n",
      "charset-normalizer        3.3.2\n",
      "colorama                  0.4.6\n",
      "comm                      0.2.1\n",
      "debugpy                   1.6.7\n",
      "decorator                 5.1.1\n",
      "defusedxml                0.7.1\n",
      "executing                 0.8.3\n",
      "fastjsonschema            2.16.2\n",
      "h11                       0.14.0\n",
      "httpcore                  1.0.2\n",
      "httpx                     0.27.0\n",
      "idna                      3.7\n",
      "ipykernel                 6.28.0\n",
      "ipython                   8.27.0\n",
      "jedi                      0.19.1\n",
      "Jinja2                    3.1.4\n",
      "json5                     0.9.6\n",
      "jsonschema                4.19.2\n",
      "jsonschema-specifications 2023.7.1\n",
      "jupyter_client            8.6.0\n",
      "jupyter_core              5.7.2\n",
      "jupyter-events            0.10.0\n",
      "jupyter-lsp               2.2.0\n",
      "jupyter_server            2.14.1\n",
      "jupyter_server_terminals  0.4.4\n",
      "jupyterlab                4.2.5\n",
      "jupyterlab-pygments       0.1.2\n",
      "jupyterlab_server         2.27.3\n",
      "MarkupSafe                2.1.3\n",
      "matplotlib-inline         0.1.6\n",
      "mistune                   2.0.4\n",
      "nbclient                  0.8.0\n",
      "nbconvert                 7.10.0\n",
      "nbformat                  5.9.2\n",
      "nest-asyncio              1.6.0\n",
      "notebook_shim             0.2.3\n",
      "overrides                 7.4.0\n",
      "packaging                 24.1\n",
      "pandocfilters             1.5.0\n",
      "parso                     0.8.3\n",
      "pip                       24.2\n",
      "platformdirs              3.10.0\n",
      "prometheus-client         0.14.1\n",
      "prompt-toolkit            3.0.43\n",
      "psutil                    5.9.0\n",
      "pure-eval                 0.2.2\n",
      "pycparser                 2.21\n",
      "pygame                    2.6.1\n",
      "Pygments                  2.15.1\n",
      "PySocks                   1.7.1\n",
      "python-dateutil           2.9.0.post0\n",
      "python-json-logger        2.0.7\n",
      "pytz                      2024.1\n",
      "pywin32                   305.1\n",
      "pywinpty                  2.0.10\n",
      "PyYAML                    6.0.1\n",
      "pyzmq                     25.1.2\n",
      "referencing               0.30.2\n",
      "requests                  2.32.3\n",
      "rfc3339-validator         0.1.4\n",
      "rfc3986-validator         0.1.1\n",
      "rpds-py                   0.10.6\n",
      "Send2Trash                1.8.2\n",
      "setuptools                72.1.0\n",
      "six                       1.16.0\n",
      "sniffio                   1.3.0\n",
      "soupsieve                 2.5\n",
      "stack-data                0.2.0\n",
      "terminado                 0.17.1\n",
      "tinycss2                  1.2.1\n",
      "tornado                   6.4.1\n",
      "traitlets                 5.14.3\n",
      "typing_extensions         4.11.0\n",
      "urllib3                   2.2.2\n",
      "wcwidth                   0.2.5\n",
      "webencodings              0.5.1\n",
      "websocket-client          1.8.0\n",
      "wheel                     0.44.0\n",
      "win-inet-pton             1.1.0\n",
      "Note: you may need to restart the kernel to use updated packages.\n"
     ]
    }
   ],
   "source": [
    "pip list"
   ]
  },
  {
   "cell_type": "markdown",
   "metadata": {},
   "source": [
    "* знайти і встановити пакет `pygame`\n"
   ]
  },
  {
   "cell_type": "code",
   "execution_count": null,
   "metadata": {},
   "outputs": [
    {
     "name": "stdout",
     "output_type": "stream",
     "text": [
      "Collecting pygame\n",
      "  Using cached pygame-2.6.1-cp312-cp312-win_amd64.whl.metadata (13 kB)\n",
      "Using cached pygame-2.6.1-cp312-cp312-win_amd64.whl (10.6 MB)\n",
      "Installing collected packages: pygame\n",
      "Successfully installed pygame-2.6.1\n",
      "Note: you may need to restart the kernel to use updated packages.\n"
     ]
    }
   ],
   "source": [
    "pip install pygame"
   ]
  },
  {
   "cell_type": "markdown",
   "metadata": {},
   "source": [
    "* вивести інформацію про `pygame`\n"
   ]
  },
  {
   "cell_type": "code",
   "execution_count": null,
   "metadata": {},
   "outputs": [
    {
     "name": "stdout",
     "output_type": "stream",
     "text": [
      "Name: pygame\n",
      "Version: 2.6.1\n",
      "Summary: Python Game Development\n",
      "Home-page: https://www.pygame.org\n",
      "Author: A community project.\n",
      "Author-email: pygame@pygame.org\n",
      "License: LGPL\n",
      "Location: c:\\Users\\Vitaliy\\.conda\\envs\\pythonLabs\\Lib\\site-packages\n",
      "Requires: \n",
      "Required-by: \n",
      "Note: you may need to restart the kernel to use updated packages.\n"
     ]
    }
   ],
   "source": [
    "pip show pygame"
   ]
  },
  {
   "cell_type": "markdown",
   "metadata": {},
   "source": [
    "* запустити код, наведений нижче\n"
   ]
  },
  {
   "cell_type": "code",
   "execution_count": null,
   "metadata": {},
   "outputs": [],
   "source": [
    "import pygame\n",
    "\n",
    "run = True\n",
    "width = 400\n",
    "height = 100\n",
    "pygame.init()\n",
    "screen = pygame.display.set_mode((width, height))\n",
    "font = pygame.font.SysFont(None, 48)\n",
    "text = font.render(\"Welcome to pygame\", True, (255, 255, 255))\n",
    "screen.blit(text, ((width - text.get_width()) // 2, (height - text.get_height()) // 2))\n",
    "pygame.display.flip()\n",
    "while run:\n",
    "    for event in pygame.event.get():\n",
    "        if event.type == pygame.QUIT\\\n",
    "        or event.type == pygame.MOUSEBUTTONUP\\\n",
    "        or event.type == pygame.KEYUP:\n",
    "            run = False"
   ]
  },
  {
   "attachments": {
    "image.png": {
     "image/png": "[encoded data removed]"
    }
   },
   "cell_type": "markdown",
   "metadata": {},
   "source": [
    "![image.png](attachment:image.png)"
   ]
  },
  {
   "cell_type": "markdown",
   "metadata": {},
   "source": [
    "* деінсталювати пакет `pygame`"
   ]
  },
  {
   "cell_type": "code",
   "execution_count": 51,
   "metadata": {},
   "outputs": [
    {
     "name": "stdout",
     "output_type": "stream",
     "text": [
      "^C\n",
      "Note: you may need to restart the kernel to use updated packages.\n"
     ]
    }
   ],
   "source": [
    "pip uninstall pygame"
   ]
  },
  {
   "attachments": {
    "86e1a674-a8b2-42f0-b244-17afaea5fbbf.png": {
     "image/png": "[encoded data removed]"
    }
   },
   "cell_type": "markdown",
   "metadata": {},
   "source": [
    "## Контрольні запитання\n",
    "\n",
    "1. Ви хочете заборонити користувачеві модуля запускати ваш код як звичайний скрипт. Як досягти такого ефекту? Написати код.\n",
    "\n",
    "\n",
    "1. Деякі додаткові та необхідні пакети зберігаються в каталозі D:\\Python\\Project\\Modules. Напишіть код, який забезпечує перегляд каталогу Python для пошуку всіх модулів. Написати код.\n",
    "\n",
    "\n",
    "1. Каталог, згаданий у попередній вправі, містить піддерево наступної структури:\n",
    "![image.png](attachment:86e1a674-a8b2-42f0-b244-17afaea5fbbf.png)  \n",
    "\n",
    "Припускаючи, що `D:\\Python\\Project\\Modules` був успішно доданий до списку `sys.path`, напишіть директиву імпорту, що дозволяє використовувати всі сутності з `mymodule`."
   ]
  },
  {
   "cell_type": "code",
   "execution_count": 48,
   "metadata": {},
   "outputs": [
    {
     "name": "stdout",
     "output_type": "stream",
     "text": [
      "Цей код не скрипт\n"
     ]
    }
   ],
   "source": [
    "if __name__ == \"__main__\":\n",
    "    print(\"Цей код не скрипт\")"
   ]
  },
  {
   "cell_type": "code",
   "execution_count": 49,
   "metadata": {},
   "outputs": [],
   "source": [
    "from sys import path\n",
    "import os\n",
    "\n",
    "path.append('D:\\\\Python\\\\Project\\\\Modules')\n",
    "\n",
    "for root, dirs, files in os.walk('D:\\\\Python\\\\Project\\\\Modules'):\n",
    "    for file in files:\n",
    "        if file.endswith('.py'):\n",
    "            print(f\"Знайдено модуль: {os.path.join(root, file)}\")"
   ]
  },
  {
   "cell_type": "code",
   "execution_count": null,
   "metadata": {},
   "outputs": [],
   "source": [
    "from abc.def.mymodule import *"
   ]
  }
 ],
 "metadata": {
  "kernelspec": {
   "display_name": "pythonLabs",
   "language": "python",
   "name": "python3"
  },
  "language_info": {
   "codemirror_mode": {
    "name": "ipython",
    "version": 3
   },
   "file_extension": ".py",
   "mimetype": "text/x-python",
   "name": "python",
   "nbconvert_exporter": "python",
   "pygments_lexer": "ipython3",
   "version": "3.12.5"
  }
 },
 "nbformat": 4,
 "nbformat_minor": 4
}
